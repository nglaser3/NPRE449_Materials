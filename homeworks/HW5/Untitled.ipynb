{
 "cells": [
  {
   "cell_type": "code",
   "execution_count": 35,
   "id": "78164edc-1d18-47bd-a114-965b6be9c87d",
   "metadata": {},
   "outputs": [],
   "source": [
    "import numpy as np \n",
    "import numpy.linalg as la\n",
    "from pyXSteam.XSteam import XSteam as xs\n",
    "props = xs(xs.UNIT_SYSTEM_BARE) #set units to m/kg/sec/K/MPa/W"
   ]
  },
  {
   "cell_type": "code",
   "execution_count": 25,
   "id": "2aec935e-a276-4207-86fc-20a14d19242a",
   "metadata": {},
   "outputs": [],
   "source": [
    "'''\n",
    "Basic Definitions\n",
    "'''\n",
    "def wT(hin,houts,eta):\n",
    "    return eta*(hin-houts)\n",
    "\n",
    "def wP(hin,houts,eta):\n",
    "    return (hin-houts)/eta"
   ]
  },
  {
   "cell_type": "markdown",
   "id": "03dbe046-80c4-4d61-afe0-63433a2eeed1",
   "metadata": {},
   "source": [
    "## Question 1"
   ]
  },
  {
   "cell_type": "code",
   "execution_count": null,
   "id": "98959cb6-afbf-47d6-a8ab-a6869ee24029",
   "metadata": {},
   "outputs": [],
   "source": []
  },
  {
   "cell_type": "markdown",
   "id": "214f3612-a88d-4997-b296-9cda91421352",
   "metadata": {},
   "source": [
    "## Question 2"
   ]
  },
  {
   "cell_type": "code",
   "execution_count": 138,
   "id": "7ac8b101-d28c-441b-82f0-e94a006efadd",
   "metadata": {},
   "outputs": [
    {
     "data": {
      "text/plain": [
       "0.3817768260328782"
      ]
     },
     "execution_count": 138,
     "metadata": {},
     "output_type": "execute_result"
    }
   ],
   "source": [
    "thigh,tlow = 293+273.15,33+273.15\n",
    "'''\n",
    "Getting Materials\n",
    "'''\n",
    "#First cycle\n",
    "\n",
    "c1_h1 = props.hV_t(thigh)\n",
    "c1_p1 = props.psat_t(thigh)\n",
    "c1_h2 = props.h_ps(props.psat_t(tlow),props.sV_t(thigh))\n",
    "c1_h3 = props.hL_t(tlow)\n",
    "c1_h3p = props.h_ps(c1_p1,props.sL_t(tlow))\n",
    "c1_h4 = props.hL_t(thigh)\n",
    "\n",
    "c1_parta = ((c1_h1-c1_h2)-(c1_h3p-c1_h3))/(c1_h1-c1_h3p)\n",
    "\n",
    "#Second Cycle\n",
    "\n",
    "c2_h1 = props.hV_t(thigh)\n",
    "c2_h2 = props.h_ps(props.psat_t(tlow),props.sV_t(thigh))\n",
    "c2_h4 = props.hL"
   ]
  },
  {
   "cell_type": "markdown",
   "id": "9e01e978-6daa-4975-b69e-550c6c4099ab",
   "metadata": {},
   "source": [
    "## Question 3"
   ]
  },
  {
   "cell_type": "code",
   "execution_count": 113,
   "id": "2fd47041-1ab5-4cb8-93b5-04f8fcf4747d",
   "metadata": {},
   "outputs": [
    {
     "name": "stdout",
     "output_type": "stream",
     "text": [
      "0.3391166426416052\n"
     ]
    }
   ],
   "source": [
    "'''\n",
    "Getting Basic enthalpies\n",
    "'''\n",
    "etat,etap = .9,.85\n",
    "h1 = props.hV_p(6.890)\n",
    "h2 = props.h_ps(1.380,props.sV_p(6.890))\n",
    "h3 = props.hV_p(1.380)\n",
    "h4 = props.hL_p(1.380)\n",
    "h5 = props.h_ps(6.89/1000,props.sV_p(1.380))\n",
    "h6 = props.hL_p(6.89/1000)\n",
    "h7 = props.h_ps(1.380,props.sL_p(6.89/1000))\n",
    "\n",
    "'''\n",
    "Getting Basic Works\n",
    "'''\n",
    "wt1 = wT(h1,h2,etat)\n",
    "wt2 = wT(h3,h5,etat)\n",
    "wp1 = wP(h7,h6,etap)\n",
    "\n",
    "'''\n",
    "Geting relationship between mass flow rates of primary / secondary / intermediate loops\n",
    "\n",
    "m1 = mass flow rate at left loop \n",
    "m2 = mass flow rate at right loop \n",
    "mi = mass flow rate at intermediate loop \n",
    "x2 = steam quality @ node 2\n",
    "\n",
    "m2 = m1*x2\n",
    "mi = m1*(1-x2)\n",
    "'''\n",
    "x2 = props.x_ph(1.380,h1-wt1) #adjusting for h2 from h2s\n",
    "h8 = (1-x2)*h4 + x2*(h6-wp1) #adjusting for h7 from h7s, (mi*h4 + m2*h7) / m1 --- CV over OFWH \n",
    "s8 = props.s_ph(1.380,h8)\n",
    "h9 = props.h_ps(6.89,s8)\n",
    "\n",
    "'''\n",
    "Final work / Q\n",
    "'''\n",
    "wp2 = wP(h9,h8,etap)\n",
    "qr = h1-(h8-wp2) #adjust for h9 from h9s\n",
    "\n",
    "'''\n",
    "Output\n",
    "'''\n",
    "therm_efficiency = (wt1+x2*wt2-x2*wp1-wp2)/(qr) #change m2 to x2*m1, cancel out m1\n",
    "print(therm_efficiency)"
   ]
  },
  {
   "cell_type": "code",
   "execution_count": 112,
   "id": "3eecc9c1-e747-4704-942d-667b5dbfc9b6",
   "metadata": {},
   "outputs": [
    {
     "data": {
      "text/plain": [
       "0.3391166426416052"
      ]
     },
     "execution_count": 112,
     "metadata": {},
     "output_type": "execute_result"
    }
   ],
   "source": []
  },
  {
   "cell_type": "code",
   "execution_count": 66,
   "id": "1517f8ab-e008-4935-9f2c-a8091227264c",
   "metadata": {},
   "outputs": [
    {
     "data": {
      "text/plain": [
       "163.50149520980193"
      ]
     },
     "execution_count": 66,
     "metadata": {},
     "output_type": "execute_result"
    }
   ],
   "source": [
    "h7"
   ]
  },
  {
   "cell_type": "code",
   "execution_count": null,
   "id": "d1dee0a5-deec-4f9c-8a56-43a543325b1e",
   "metadata": {},
   "outputs": [],
   "source": []
  }
 ],
 "metadata": {
  "kernelspec": {
   "display_name": "Python 3 (ipykernel)",
   "language": "python",
   "name": "python3"
  },
  "language_info": {
   "codemirror_mode": {
    "name": "ipython",
    "version": 3
   },
   "file_extension": ".py",
   "mimetype": "text/x-python",
   "name": "python",
   "nbconvert_exporter": "python",
   "pygments_lexer": "ipython3",
   "version": "3.10.14"
  }
 },
 "nbformat": 4,
 "nbformat_minor": 5
}
